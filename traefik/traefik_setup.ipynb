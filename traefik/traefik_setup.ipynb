{
 "cells": [
  {
   "cell_type": "markdown",
   "metadata": {},
   "source": [
    "# This notebook generates files for config of Docker module traefik"
   ]
  },
  {
   "cell_type": "markdown",
   "metadata": {},
   "source": [
    "This cell adds traefik service to docker-compose"
   ]
  },
  {
   "cell_type": "code",
   "execution_count": 2,
   "metadata": {},
   "outputs": [
    {
     "name": "stdout",
     "output_type": "stream",
     "text": [
      "\n",
      "docker-compose.yml has been updated successfully.\n"
     ]
    }
   ],
   "source": [
    " \n",
    "from ruamel.yaml import YAML\n",
    "\n",
    "# Create a YAML object\n",
    "yaml = YAML()\n",
    "yaml.preserve_quotes = True  # Preserves quotes in the YAML file\n",
    "yaml.indent(mapping = 2, sequence = 2, offset = 2)\n",
    "\n",
    "#Setup file edit path \n",
    "docker_compose_path = '../docker-compose.yml'  \n",
    "\n",
    "# Read the docker-compose.yml file\n",
    "with open(docker_compose_path, 'r') as file:\n",
    "    docker_compose = yaml.load(file)\n",
    " \n",
    " \n",
    "traefik_service = {\n",
    "'image': 'traefik:v3.1',\n",
    "'command': [\n",
    "    '--providers.docker=true',\n",
    "    '--providers.docker.exposedbydefault=false',\n",
    "    '--entrypoints.web.address=:80',\n",
    "    '--accesslog=true',\n",
    "    '--api=true',\n",
    "    '--api.dashboard=true',\n",
    "    '--api.insecure=true', #TODO: This is insecure, do not use in production\n",
    "\n",
    "],\n",
    "'ports': [ '8001:80', '8080:8080' ],\n",
    "'volumes': [ '/var/run/docker.sock:/var/run/docker.sock:ro' ],\n",
    "'networks': [ 'app-network' ]\n",
    "\n",
    "\n",
    "\n",
    "}\n",
    "\n",
    "\n",
    "\n",
    "\n",
    "docker_compose['services']['traefik'] = traefik_service\n",
    "\n",
    "\n",
    "\n",
    "\n",
    "# Write the updated configuration back to docker-compose.yml\n",
    "with open(docker_compose_path, 'w') as file:\n",
    "    yaml.dump(docker_compose, file)\n",
    "\n",
    "print(\"\\ndocker-compose.yml has been updated successfully.\")\n",
    " "
   ]
  }
 ],
 "metadata": {
  "kernelspec": {
   "display_name": ".venv",
   "language": "python",
   "name": "python3"
  },
  "language_info": {
   "codemirror_mode": {
    "name": "ipython",
    "version": 3
   },
   "file_extension": ".py",
   "mimetype": "text/x-python",
   "name": "python",
   "nbconvert_exporter": "python",
   "pygments_lexer": "ipython3",
   "version": "3.10.12"
  }
 },
 "nbformat": 4,
 "nbformat_minor": 2
}
