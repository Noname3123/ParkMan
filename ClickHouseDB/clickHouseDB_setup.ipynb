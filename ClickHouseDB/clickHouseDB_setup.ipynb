{
 "cells": [
  {
   "cell_type": "markdown",
   "metadata": {},
   "source": [
    "# Setup of ClickHouse columnar DB for analytics"
   ]
  },
  {
   "cell_type": "code",
   "execution_count": 4,
   "metadata": {},
   "outputs": [],
   "source": [
    "#custom cell command, run it before runing code below\n",
    "from IPython.core.magic import register_line_cell_magic\n",
    "\n",
    "@register_line_cell_magic\n",
    "def writetemplate(line, cell):\n",
    "    with open(line, 'w') as f:\n",
    "        f.write(cell.format(**globals()))"
   ]
  },
  {
   "cell_type": "code",
   "execution_count": 5,
   "metadata": {},
   "outputs": [],
   "source": [
    "#define variables\n",
    "\n",
    "user_name=\"parkman_user\"\n",
    "user_pass=\"parkman_user_pass\"\n",
    "\n"
   ]
  },
  {
   "cell_type": "markdown",
   "metadata": {},
   "source": [
    "Write config files, defining users for db (users.xml) and server config (config.xml)"
   ]
  },
  {
   "cell_type": "code",
   "execution_count": 6,
   "metadata": {},
   "outputs": [
    {
     "name": "stdout",
     "output_type": "stream",
     "text": [
      "Overwriting ./config.xml\n"
     ]
    }
   ],
   "source": [
    "%%writefile ./config.xml\n",
    "<clickhouse replace=\"true\">\n",
    "    <logger>\n",
    "        <level>debug</level>\n",
    "        <log>/var/log/clickhouse-server/clickhouse-server.log</log>\n",
    "        <errorlog>/var/log/clickhouse-server/clickhouse-server.err.log</errorlog>\n",
    "        <size>1000M</size>\n",
    "        <count>3</count>\n",
    "    </logger>\n",
    "    <display_name>clickhouse_analytics</display_name>\n",
    "    <listen_host>0.0.0.0</listen_host>\n",
    "    <http_port>8123</http_port>\n",
    "    <tcp_port>9000</tcp_port>\n",
    "    <user_directories>\n",
    "        <users_xml>\n",
    "            <path>users.xml</path>\n",
    "        </users_xml>\n",
    "        <local_directory>\n",
    "            <path>/var/lib/clickhouse/access/</path>\n",
    "        </local_directory>\n",
    "    </user_directories>\n",
    "</clickhouse>"
   ]
  },
  {
   "cell_type": "code",
   "execution_count": 19,
   "metadata": {},
   "outputs": [
    {
     "name": "stdout",
     "output_type": "stream",
     "text": [
      "Overwriting ./users.xml\n"
     ]
    }
   ],
   "source": [
    "%%writefile ./users.xml\n",
    "<?xml version=\"1.0\"?>\n",
    "<clickhouse replace=\"true\">\n",
    "    <profiles>\n",
    "        <default>\n",
    "            <max_memory_usage>10000000000</max_memory_usage>\n",
    "            <use_uncompressed_cache>0</use_uncompressed_cache>\n",
    "            <load_balancing>in_order</load_balancing>\n",
    "            <log_queries>1</log_queries>\n",
    "        </default>\n",
    "    </profiles>\n",
    "    <users>\n",
    "        <default > <!--NOT ALLOWED IN PRODUCTION-->\n",
    "            <access_management>1</access_management>\n",
    "            <profile>default</profile>\n",
    "            <networks>\n",
    "                <ip>::/0</ip>\n",
    "            </networks>\n",
    "            <quota>default</quota>\n",
    "            <access_management>1</access_management>\n",
    "            <named_collection_control>1</named_collection_control>\n",
    "            <show_named_collections>1</show_named_collections>\n",
    "            <show_named_collections_secrets>1</show_named_collections_secrets>\n",
    "        </default>\n",
    "    </users>\n",
    "    <quotas>\n",
    "        <default>\n",
    "            <interval>\n",
    "                <duration>3600</duration>\n",
    "                <queries>0</queries>\n",
    "                <errors>0</errors>\n",
    "                <result_rows>0</result_rows>\n",
    "                <read_rows>0</read_rows>\n",
    "                <execution_time>0</execution_time>\n",
    "            </interval>\n",
    "        </default>\n",
    "    </quotas>\n",
    "</clickhouse>"
   ]
  },
  {
   "cell_type": "markdown",
   "metadata": {},
   "source": [
    "Write initdb script which inits DB schema and defines users so that access to DB is limited"
   ]
  },
  {
   "cell_type": "code",
   "execution_count": 7,
   "metadata": {},
   "outputs": [],
   "source": [
    "%%writetemplate ./scripts/clickhouse-init.sql\n",
    "\n",
    "\n",
    "\n",
    "\n",
    "\n",
    "\n",
    "CREATE DATABASE IF NOT EXISTS parking_db;\n",
    "CREATE TABLE IF NOT EXISTS parking_db.parking_analytics  (\n",
    "    owner_id String,            -- ID of parking lot owner (from MongoDB)\n",
    "    owner_full_name String,     -- Name + surname of owner (MongoDB)\n",
    "    parking_lot_id String,      -- ID of parking lot (from TimescaleDB)\n",
    "    parking_lot_name String,    -- Name of parking lot (MongoDB)\n",
    "    parking_spot_number Int32,  -- Number of parking spots for the parking lot (from MongoDB)\n",
    "    user_id String,             -- ID of user who parked (from TimescaleDB)\n",
    "    user_full_name String,             -- Name + surname of user (MongoDB)\n",
    "    entry_timestamp DateTime,   -- When user entered parking lot (from TimescaleDB)\n",
    "    leaving_timestamp DateTime, -- When user left parking lot (from TimescaleDB)\n",
    "    checkout_price Float64      -- How much user has to pay for parking (from TimescaleDB)\n",
    ") \n",
    "ENGINE = MergeTree()\n",
    "PARTITION BY (owner_id, toYYYYMM(entry_timestamp))  -- Composite partition by owner_id and year-month of entry_timestamp\n",
    "ORDER BY (owner_id, owner_name, parking_lot_id, parking_lot_name, entry_timestamp, user_id, user_name);  -- Order by owner_id and name, parking_lot_id and name, entry_timestamp, and user_id\n",
    "\n",
    "CREATE USER {user_name} IDENTIFIED BY '{user_pass}';\n",
    "GRANT ALTER, SELECT ON parking_db.parking_analytics TO {user_name}; \n",
    "GRANT ALTER ON parking_db TO {user_name}; \n",
    "\n",
    "\n"
   ]
  },
  {
   "cell_type": "markdown",
   "metadata": {},
   "source": [
    "Write yaml for clickhouse service"
   ]
  },
  {
   "cell_type": "code",
   "execution_count": 12,
   "metadata": {},
   "outputs": [
    {
     "name": "stdout",
     "output_type": "stream",
     "text": [
      "Overwriting ../clickhouse.yml\n"
     ]
    }
   ],
   "source": [
    "%%writefile ../clickhouse.yml\n",
    "version: '3.8'\n",
    "services:\n",
    "  clickhouse:\n",
    "    image: clickhouse/clickhouse-server\n",
    "    container_name: clickhouse\n",
    "    hostname: clickhouse\n",
    "    volumes:\n",
    "      - ./ClickHouseDB/config.xml:/etc/clickhouse-server/config.d/config.xml\n",
    "      - ./ClickHouseDB/users.xml:/etc/clickhouse-server/users.d/users.xml\n",
    "      - clickhouse_db:/var/lib/clickhouse\n",
    "      - clickhouse_logs:/var/log/clickhouse-server/\n",
    "      - ./ClickHouseDB/scripts:/docker-entrypoint-initdb.d \n",
    "    ports:\n",
    "      - \"8123:8123\" #HTTP port\n",
    "      - \"9999:9000\" #Native Client port\n",
    "\n",
    "    networks:\n",
    "      - app-network\n",
    "\n",
    "volumes:\n",
    "  clickhouse_db: {}\n",
    "  clickhouse_logs: {}\n",
    "\n",
    "  "
   ]
  }
 ],
 "metadata": {
  "kernelspec": {
   "display_name": ".venv",
   "language": "python",
   "name": "python3"
  },
  "language_info": {
   "codemirror_mode": {
    "name": "ipython",
    "version": 3
   },
   "file_extension": ".py",
   "mimetype": "text/x-python",
   "name": "python",
   "nbconvert_exporter": "python",
   "pygments_lexer": "ipython3",
   "version": "3.10.12"
  }
 },
 "nbformat": 4,
 "nbformat_minor": 2
}
