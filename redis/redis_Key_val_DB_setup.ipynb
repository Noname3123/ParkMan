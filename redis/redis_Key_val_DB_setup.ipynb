{
 "cells": [
  {
   "cell_type": "markdown",
   "metadata": {},
   "source": [
    "# Setup code for implementing Redis Key Value DB into Docker compose"
   ]
  },
  {
   "cell_type": "markdown",
   "metadata": {},
   "source": [
    "## Environment variables setup"
   ]
  },
  {
   "cell_type": "code",
   "execution_count": 1,
   "metadata": {},
   "outputs": [],
   "source": [
    "\"\"\"REDIS_PORT=6379\n",
    "REDIS_HOST=redis\"\"\"\n",
    "\n",
    "redis_port=6379\n",
    "redis_host=\"redis_parking_spots_status\"\n",
    "\n",
    "\n"
   ]
  },
  {
   "cell_type": "markdown",
   "metadata": {},
   "source": [
    "Modify docker compose .env so that it has access to redis port in env file"
   ]
  },
  {
   "cell_type": "code",
   "execution_count": 2,
   "metadata": {},
   "outputs": [],
   "source": [
    "#append to docker-compose shared env neccessarry env variables so that the service could config properly\n",
    "with open('../.env', 'a') as f:\n",
    "    f.write(f\"\\n\\nREDIS_PORT={redis_port}\")"
   ]
  },
  {
   "cell_type": "markdown",
   "metadata": {},
   "source": [
    "Create shared .env for Redis, MobileApp and ManagerApp"
   ]
  },
  {
   "cell_type": "code",
   "execution_count": 3,
   "metadata": {},
   "outputs": [],
   "source": [
    "#Create shared env file for ManagerApp and timescaleDB config\n",
    "shared_env_app = f'''\n",
    "REDIS_PORT={redis_port}\n",
    "REDIS_HOST={redis_host}\n",
    "'''  \n",
    "\n",
    "with open('.env.shared.ManagerApp.MobileApp', 'w') as f:\n",
    "    f.write(shared_env_app)"
   ]
  },
  {
   "cell_type": "markdown",
   "metadata": {},
   "source": [
    "## Redis Dockerfile setup"
   ]
  },
  {
   "cell_type": "markdown",
   "metadata": {},
   "source": [
    "Dockerfile for Redis must be created"
   ]
  },
  {
   "cell_type": "code",
   "execution_count": 4,
   "metadata": {},
   "outputs": [
    {
     "name": "stdout",
     "output_type": "stream",
     "text": [
      "Writing Dockerfile\n"
     ]
    }
   ],
   "source": [
    "%%writefile Dockerfile\n",
    "# Use the official Redis image from the Docker Hub\n",
    "FROM redis:latest\n",
    "\n",
    "\n",
    "\n",
    "# Expose the default Redis port\n",
    "EXPOSE 6379\n"
   ]
  },
  {
   "cell_type": "markdown",
   "metadata": {},
   "source": [
    "## Modify docker compose"
   ]
  },
  {
   "cell_type": "code",
   "execution_count": 11,
   "metadata": {},
   "outputs": [
    {
     "name": "stdout",
     "output_type": "stream",
     "text": [
      "\n",
      "docker-compose.yml has been updated successfully.\n"
     ]
    }
   ],
   "source": [
    "\"\"\"version: '3'\n",
    "\n",
    "\n",
    "services:\n",
    "  redis:\n",
    "    build: ./redis\n",
    "    container_name: redis_container\n",
    "    ports:\n",
    "      - \"${REDIS_PORT}:6379\"\n",
    "    environment:\n",
    "      - REDIS_PORT=${REDIS_PORT}\n",
    "      - REDIS_HOST=${REDIS_HOST}\n",
    "    healthcheck:\n",
    "      test: [\"CMD\", \"redis-cli\", \"ping\"]\n",
    "      interval: 30s\n",
    "      timeout: 10s\n",
    "      retries: 3\n",
    "      \n",
    "  \n",
    "\n",
    "\"\"\"\n",
    "\n",
    "\n",
    "\n",
    "from ruamel.yaml import YAML\n",
    "\n",
    "# Initialize YAML parser\n",
    "yaml = YAML()\n",
    "yaml.preserve_quotes = True  # Preserves quotes in the YAML file\n",
    "yaml.indent(mapping = 2, sequence = 2, offset = 2)\n",
    "\n",
    "#Setup file edit path \n",
    "docker_compose_path = '../docker-compose.yml'  \n",
    "\n",
    "# Read the docker-compose.yml file\n",
    "with open(docker_compose_path, 'r') as file:\n",
    "    docker_compose = yaml.load(file)\n",
    "\n",
    "\n",
    "redis_db = {\n",
    "    'build' : './redis',\n",
    "    'restart':'always',\n",
    "    'ports' : [\n",
    "        \"${REDIS_PORT}:6379\"\n",
    "    ],\n",
    "    'env_file' : [\n",
    "        './redis/.env.shared.ManagerApp.MobileApp'\n",
    "    ],\n",
    "    'volumes' : [\n",
    "        'redis_DB_parking_spot_status:/data'\n",
    "    ],\n",
    "    'networks' : [\n",
    "        'app-network'\n",
    "    ],\n",
    "    'healthcheck' : {\n",
    "      'test': [\"CMD\", \"redis-cli\",\"ping\"], \n",
    "      'interval': '30s', \n",
    "      'timeout': '10s', \n",
    "      'retries':5, \n",
    "    }\n",
    "}\n",
    "\n",
    "if docker_compose['services']['manager_app']['depends_on'] is None:\n",
    "    docker_compose['services']['manager_app']['depends_on']=dict()\n",
    "docker_compose['services']['manager_app']['depends_on'].update({ \n",
    "\n",
    "    redis_host: { \n",
    "        'condition': 'service_healthy'\n",
    "        },\n",
    "})\n",
    "\n",
    "if docker_compose['services']['mobile_app']['depends_on'] is None:\n",
    "    docker_compose['services']['mobile_app']['depends_on']=dict()\n",
    "docker_compose['services']['mobile_app']['depends_on'].update({ \n",
    "\n",
    "    redis_host: { \n",
    "        'condition': 'service_healthy'\n",
    "        },\n",
    "})\n",
    "\n",
    "\n",
    "if docker_compose['services']['manager_app']['env_file'] is None:\n",
    "    docker_compose['services']['manager_app']['env_file'] =[]\n",
    "docker_compose['services']['manager_app']['env_file'] += ['./redis/.env.shared.ManagerApp.MobileApp']\n",
    "\n",
    "\n",
    "if docker_compose['services']['mobile_app']['env_file'] is None:\n",
    "    docker_compose['services']['mobile_app']['env_file'] =[]\n",
    "docker_compose['services']['mobile_app']['env_file'] += ['./redis/.env.shared.ManagerApp.MobileApp']\n",
    "\n",
    "# Add the service to the services section\n",
    "docker_compose['services'][redis_host] = redis_db\n",
    "\n",
    "docker_compose['volumes']['redis_DB_parking_spot_status'] = {}\n",
    "\n",
    "# Write the updated configuration back to docker-compose.yml\n",
    "with open(docker_compose_path, 'w') as file:\n",
    "    yaml.dump(docker_compose, file)\n",
    "\n",
    "print(\"\\ndocker-compose.yml has been updated successfully.\")\n"
   ]
  },
  {
   "cell_type": "markdown",
   "metadata": {},
   "source": [
    "# Redis testing\n",
    "\n",
    "\n"
   ]
  },
  {
   "cell_type": "code",
   "execution_count": 16,
   "metadata": {},
   "outputs": [
    {
     "name": "stdout",
     "output_type": "stream",
     "text": [
      "{b'parking_lot_id': b'1', b'parking_spot_id': b'1', b'is_free': b'1'}\n",
      "{b'parking_lot_id': b'1', b'parking_spot_id': b'2', b'is_free': b'0'}\n",
      "{b'parking_lot_id': b'2', b'parking_spot_id': b'1', b'is_free': b'1'}\n",
      "{b'parking_lot_id': b'2', b'parking_spot_id': b'2', b'is_free': b'1'}\n"
     ]
    }
   ],
   "source": [
    "import redis\n",
    "\n",
    "#!/bin/bash\n",
    "# This script will initialize Redis with parking spot tracking data\n",
    "\n",
    "# Define a parking spot with parking lot ID, parking spot ID, and availability\n",
    "#redis-cli HMSET parking_spot:1:1 parking_lot_id 1 parking_spot_id 1 is_free 1\n",
    "#redis-cli HMSET parking_spot:1:2 parking_lot_id 1 parking_spot_id 2 is_free 0\n",
    "#redis-cli HMSET parking_spot:2:1 parking_lot_id 2 parking_spot_id 1 is_free 1\n",
    "#redis-cli HMSET parking_spot:2:2 parking_lot_id 2 parking_spot_id 2 is_free 1\n",
    "\n",
    "# Additional parking spots can be added similarly...\n",
    "# Connect to Redis\n",
    "r = redis.Redis(host=\"localhost\", port=redis_port)\n",
    "\n",
    "# Define parking spots data\n",
    "parking_spots = [\n",
    "    {\"parking_lot_id\": 1, \"parking_spot_id\": 1, \"is_free\": 1},\n",
    "    {\"parking_lot_id\": 1, \"parking_spot_id\": 2, \"is_free\": 0},\n",
    "    {\"parking_lot_id\": 2, \"parking_spot_id\": 1, \"is_free\": 1},\n",
    "    {\"parking_lot_id\": 2, \"parking_spot_id\": 2, \"is_free\": 1},\n",
    "]\n",
    "\n",
    "# Add parking spots to Redis\n",
    "for spot in parking_spots:\n",
    "    key = f\"parking_spot:{spot['parking_lot_id']}:{spot['parking_spot_id']}\"\n",
    "    r.hset(key, mapping=spot)\n",
    "\n",
    "# Test if data was added\n",
    "for spot in parking_spots:\n",
    "    key = f\"parking_spot:{spot['parking_lot_id']}:{spot['parking_spot_id']}\"\n",
    "    print(r.hgetall(key))"
   ]
  }
 ],
 "metadata": {
  "kernelspec": {
   "display_name": ".venv",
   "language": "python",
   "name": "python3"
  },
  "language_info": {
   "codemirror_mode": {
    "name": "ipython",
    "version": 3
   },
   "file_extension": ".py",
   "mimetype": "text/x-python",
   "name": "python",
   "nbconvert_exporter": "python",
   "pygments_lexer": "ipython3",
   "version": "3.10.12"
  }
 },
 "nbformat": 4,
 "nbformat_minor": 2
}
