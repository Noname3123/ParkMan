{
 "cells": [
  {
   "cell_type": "markdown",
   "metadata": {},
   "source": [
    "# Setup notebook for Apache Nifi ETL flow"
   ]
  },
  {
   "cell_type": "markdown",
   "metadata": {},
   "source": [
    "## Config code - not working (for outdated version of NIFI)"
   ]
  },
  {
   "cell_type": "markdown",
   "metadata": {},
   "source": [
    "create dirs for nifi custom config data"
   ]
  },
  {
   "cell_type": "code",
   "execution_count": 5,
   "metadata": {},
   "outputs": [],
   "source": [
    "!mkdir -p nifi-conf nifi-state nifi-flowfile-repo nifi-content-repo nifi-provenance-repo nifi-database-repo"
   ]
  },
  {
   "cell_type": "markdown",
   "metadata": {},
   "source": [
    "Config nifi users (admin)"
   ]
  },
  {
   "cell_type": "code",
   "execution_count": 3,
   "metadata": {},
   "outputs": [
    {
     "name": "stdout",
     "output_type": "stream",
     "text": [
      "Writing ./nifi-conf/nifi-users.xml\n"
     ]
    }
   ],
   "source": [
    "%%writefile ./nifi-conf/nifi-users.xml\n",
    "\n",
    "<?xml version=\"1.0\" encoding=\"UTF-8\" standalone=\"yes\"?>\n",
    "<users>\n",
    "  <!-- Define the admin user -->\n",
    "  <user>\n",
    "    <identifier>admin</identifier>\n",
    "    <identity>admin</identity>\n",
    "    <justCreated>false</justCreated>\n",
    "  </user>\n",
    "\n",
    "  <!-- Define policies for the admin user -->\n",
    "  <policies>\n",
    "    <!-- Access the controller -->\n",
    "    <policy>\n",
    "      <resource>/flow</resource>\n",
    "      <action>read</action>\n",
    "      <users>\n",
    "        <user>admin</user>\n",
    "      </users>\n",
    "    </policy>\n",
    "    <policy>\n",
    "      <resource>/flow</resource>\n",
    "      <action>write</action>\n",
    "      <users>\n",
    "        <user>admin</user>\n",
    "      </users>\n",
    "    </policy>\n",
    "    <policy>\n",
    "      <resource>/flow</resource>\n",
    "      <action>delete</action>\n",
    "      <users>\n",
    "        <user>admin</user>\n",
    "      </users>\n",
    "    </policy>\n",
    "\n",
    "    <!-- Access to resources and services -->\n",
    "    <policy>\n",
    "      <resource>/provenance</resource>\n",
    "      <action>read</action>\n",
    "      <users>\n",
    "        <user>admin</user>\n",
    "      </users>\n",
    "    </policy>\n",
    "    <policy>\n",
    "      <resource>/controller</resource>\n",
    "      <action>read</action>\n",
    "      <users>\n",
    "        <user>admin</user>\n",
    "      </users>\n",
    "    </policy>\n",
    "    <policy>\n",
    "      <resource>/controller</resource>\n",
    "      <action>write</action>\n",
    "      <users>\n",
    "        <user>admin</user>\n",
    "      </users>\n",
    "    </policy>\n",
    "    <policy>\n",
    "      <resource>/counters</resource>\n",
    "      <action>read</action>\n",
    "      <users>\n",
    "        <user>admin</user>\n",
    "      </users>\n",
    "    </policy>\n",
    "    <policy>\n",
    "      <resource>/policies</resource>\n",
    "      <action>write</action>\n",
    "      <users>\n",
    "        <user>admin</user>\n",
    "      </users>\n",
    "    </policy>\n",
    "  </policies>\n",
    "</users>\n"
   ]
  },
  {
   "cell_type": "markdown",
   "metadata": {},
   "source": [
    "Config nifi files which enable authorisation"
   ]
  },
  {
   "cell_type": "code",
   "execution_count": 4,
   "metadata": {},
   "outputs": [
    {
     "name": "stdout",
     "output_type": "stream",
     "text": [
      "Overwriting ./nifi-conf/nifi.properties\n"
     ]
    }
   ],
   "source": [
    "%%writefile ./nifi-conf/nifi.properties\n",
    "\n",
    "\n",
    "#No HTTPS - DONT DO IN PROD\n",
    "# nifi.web.https.host=0.0.0.0\n",
    "# nifi.web.https.port=8443\n",
    "\n",
    "\n",
    "# Web properties\n",
    "nifi.web.http.host=\n",
    "nifi.web.http.port=8080\n",
    "nifi.web.http.network.interface.default=\n",
    "\n",
    "# Security properties\n",
    "nifi.security.user.login.identity.provider=single-user-provider\n",
    "nifi.security.user.single.user=admin\n",
    "nifi.security.user.single.password=admin\n",
    "nifi.security.user.authorizer=single-user-authorizer\n",
    "\n",
    "# Authorizer Configuration\n",
    "nifi.security.user.authorizer=managed-authorizer\n",
    "nifi.authorizer.configuration.file=./conf/authorizers.xml\n",
    "\n",
    "# File-based user group provider\n",
    "nifi.security.user.login.identity.provider.configuration.file=./conf/login-identity-providers.xml\n",
    "\n",
    "# Other properties can be left as default or configured as per your requirement\n",
    "# Configure the log directory\n",
    "nifi.logging.dir=/opt/nifi/current/logs\n",
    "\n",
    "# Specify the path for nifi-app.log\n",
    "nifi-app.log=/opt/nifi/current/logs/nifi-app.log\n",
    "\n",
    "nifi.nar.library.directory=./lib/nar\n",
    "\n"
   ]
  },
  {
   "cell_type": "markdown",
   "metadata": {},
   "source": [
    "Create additional files necesarry for nifi.properties"
   ]
  },
  {
   "cell_type": "code",
   "execution_count": 5,
   "metadata": {},
   "outputs": [
    {
     "name": "stdout",
     "output_type": "stream",
     "text": [
      "Overwriting ./nifi-conf/authorizers.xml\n"
     ]
    }
   ],
   "source": [
    "%%writefile ./nifi-conf/authorizers.xml\n",
    "<?xml version=\"1.0\" encoding=\"UTF-8\" standalone=\"yes\"?>\n",
    "<authorizers>\n",
    "    <authorizer>\n",
    "        <identifier>managed-authorizer</identifier>\n",
    "        <class>org.apache.nifi.authorization.FileAuthorizer</class>\n",
    "        <property name=\"Authorizations File\">./conf/authorizations.xml</property>\n",
    "        <property name=\"Users File\">./conf/nifi-users.xml</property>\n",
    "        <property name=\"Initial Admin Identity\">admin</property>\n",
    "        <property name=\"Legacy Authorized Users File\"></property>\n",
    "        <property name=\"Node Identity 1\"></property>\n",
    "    </authorizer>\n",
    "</authorizers>\n"
   ]
  },
  {
   "cell_type": "code",
   "execution_count": 6,
   "metadata": {},
   "outputs": [
    {
     "name": "stdout",
     "output_type": "stream",
     "text": [
      "Overwriting ./nifi-conf/login-identity-providers.xml\n"
     ]
    }
   ],
   "source": [
    "%%writefile ./nifi-conf/login-identity-providers.xml\n",
    "<?xml version=\"1.0\" encoding=\"UTF-8\" standalone=\"yes\"?>\n",
    "<loginIdentityProviders>\n",
    "    <provider>\n",
    "        <identifier>single-user-provider</identifier>\n",
    "        <class>org.apache.nifi.authentication.SingleUserLoginIdentityProvider</class>\n",
    "    </provider>\n",
    "</loginIdentityProviders>\n"
   ]
  },
  {
   "cell_type": "markdown",
   "metadata": {},
   "source": [
    "Create bootstrap.conf for NIFI"
   ]
  },
  {
   "cell_type": "code",
   "execution_count": 7,
   "metadata": {},
   "outputs": [
    {
     "name": "stdout",
     "output_type": "stream",
     "text": [
      "Overwriting ./nifi-conf/bootstrap.conf\n"
     ]
    }
   ],
   "source": [
    "%%writefile ./nifi-conf/bootstrap.conf\n",
    "# Specify the fully qualified Java command to run\n",
    "java=/usr/bin/java\n",
    "\n",
    "# Specify the lib directory\n",
    "lib.dir=./lib\n",
    "\n",
    "# Specify the conf directory\n",
    "conf.dir=./conf\n",
    "\n",
    "# Specify the graceful shutdown timeout in seconds\n",
    "graceful.shutdown.seconds=30\n",
    "\n",
    "# JVM arguments\n",
    "java.arg.1=-Xms512m\n",
    "java.arg.2=-Xmx1024m\n",
    "java.arg.3=-Xlog:gc\n",
    "java.arg.4=-Xlog:gc*:file=/opt/nifi/current/logs/gc.log\n",
    "\n",
    "\n"
   ]
  },
  {
   "cell_type": "markdown",
   "metadata": {},
   "source": [
    "Create file for NIFI logging"
   ]
  },
  {
   "cell_type": "code",
   "execution_count": 8,
   "metadata": {},
   "outputs": [
    {
     "name": "stdout",
     "output_type": "stream",
     "text": [
      "Writing ./nifi-conf/logback.xml\n"
     ]
    }
   ],
   "source": [
    "%%writefile ./nifi-conf/logback.xml\n",
    "<configuration>\n",
    "\n",
    "  <!-- Console appender -->\n",
    "  <appender name=\"CONSOLE\" class=\"ch.qos.logback.core.ConsoleAppender\">\n",
    "    <encoder>\n",
    "      <pattern>%d{ISO8601} %-5level [%thread] %logger{36} - %msg%n</pattern>\n",
    "    </encoder>\n",
    "  </appender>\n",
    "\n",
    "  <!-- File appender for NiFi application logs -->\n",
    "  <appender name=\"FILE\" class=\"ch.qos.logback.core.rolling.RollingFileAppender\">\n",
    "    <file>/opt/nifi/nifi-current/logs/nifi-app.log</file>\n",
    "    <rollingPolicy class=\"ch.qos.logback.core.rolling.TimeBasedRollingPolicy\">\n",
    "      <fileNamePattern>/opt/nifi/nifi-current/logs/nifi-app-%d{yyyy-MM-dd}.%i.log</fileNamePattern>\n",
    "      <timeBasedFileNamingAndTriggeringPolicy class=\"ch.qos.logback.core.rolling.SizeAndTimeBasedFNATP\">\n",
    "        <maxFileSize>100MB</maxFileSize>\n",
    "      </timeBasedFileNamingAndTriggeringPolicy>\n",
    "      <maxHistory>30</maxHistory>\n",
    "    </rollingPolicy>\n",
    "    <encoder>\n",
    "      <pattern>%d{ISO8601} %-5level [%thread] %logger{36} - %msg%n</pattern>\n",
    "    </encoder>\n",
    "  </appender>\n",
    "\n",
    "  <!-- Root logger configuration -->\n",
    "  <root level=\"INFO\">\n",
    "    <appender-ref ref=\"CONSOLE\"/>\n",
    "    <appender-ref ref=\"FILE\"/>\n",
    "  </root>\n",
    "\n",
    "</configuration>\n"
   ]
  },
  {
   "cell_type": "markdown",
   "metadata": {},
   "source": [
    "Dockerfile for NIFI generation"
   ]
  },
  {
   "cell_type": "code",
   "execution_count": 9,
   "metadata": {},
   "outputs": [
    {
     "name": "stdout",
     "output_type": "stream",
     "text": [
      "Overwriting Dockerfile\n"
     ]
    }
   ],
   "source": [
    "%%writefile Dockerfile\n",
    "\n",
    "FROM apache/nifi:latest\n",
    "\n",
    "\n",
    "COPY ./ApacheNifiETL/nifi-conf/nifi.properties /opt/nifi/current/conf/\n",
    "COPY ./ApacheNifiETL/nifi-conf/nifi-users.xml /opt/nifi/current/conf/\n",
    "COPY ./ApacheNifiETL/nifi-conf/login-identity-providers.xml /opt/nifi/current/conf/\n",
    "COPY ./ApacheNifiETL/nifi-conf/authorizers.xml /opt/nifi/current/conf/"
   ]
  },
  {
   "cell_type": "markdown",
   "metadata": {},
   "source": [
    "## Yaml"
   ]
  },
  {
   "cell_type": "markdown",
   "metadata": {},
   "source": [
    ".yaml file creation"
   ]
  },
  {
   "cell_type": "code",
   "execution_count": 1,
   "metadata": {},
   "outputs": [
    {
     "name": "stdout",
     "output_type": "stream",
     "text": [
      "Overwriting ../apache-nifi.yml\n"
     ]
    }
   ],
   "source": [
    "%%writefile ../apache-nifi.yml\n",
    "version: \"3\"\n",
    "\n",
    "services:\n",
    "  nifi:\n",
    "    image: apache/nifi:latest\n",
    "    ports:\n",
    "      - \"8443:8443\" #server runs here on https\n",
    "      - \"8181:8181\"\n",
    "      - \"10000:10000\"\n",
    "    volumes:\n",
    "      - conf:/opt/nifi/current/conf\n",
    "      - content:/opt/nifi/current/content_repository\n",
    "      - db:/opt/nifi/current/database_repository\n",
    "      - flowfile:/opt/nifi/current/flowfile_repository\n",
    "      - provenance:/opt/nifi/current/provenance_repository\n",
    "      - logs:/opt/nifi/current/logs\n",
    "      - data:/opt/nifi/current/data\n",
    "\n",
    "    \n",
    "\n",
    "    restart:\n",
    "      always\n",
    "\n",
    "    depends_on:\n",
    "        clickhouse:\n",
    "          condition: service_healthy\n",
    "        mongo_manager_db_service:\n",
    "          condition: service_healthy\n",
    "        mongo_user_db_service:\n",
    "          condition: service_healthy\n",
    "        park_transactions_db:\n",
    "          condition: service_healthy\n",
    "\n",
    "\n",
    "      \n",
    "\n",
    "volumes:\n",
    "  conf:\n",
    "  content:\n",
    "  db:\n",
    "  flowfile:\n",
    "  provenance:\n",
    "  logs:\n",
    "  data:\n",
    "\n"
   ]
  },
  {
   "cell_type": "markdown",
   "metadata": {},
   "source": [
    "After bootup, wait about 30 seconds for server to start. NIFI creates random username and password when container deploys. You can then connect to https://localhost/8443/nifi (ignore certificate warning # TODO: implement certificates in PROD). Use docker logs for container and search temp user login and password values in log. "
   ]
  }
 ],
 "metadata": {
  "kernelspec": {
   "display_name": ".venv",
   "language": "python",
   "name": "python3"
  },
  "language_info": {
   "codemirror_mode": {
    "name": "ipython",
    "version": 3
   },
   "file_extension": ".py",
   "mimetype": "text/x-python",
   "name": "python",
   "nbconvert_exporter": "python",
   "pygments_lexer": "ipython3",
   "version": "3.10.12"
  }
 },
 "nbformat": 4,
 "nbformat_minor": 2
}
