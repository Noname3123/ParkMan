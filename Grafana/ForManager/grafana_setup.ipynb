{
 "cells": [
  {
   "cell_type": "code",
   "execution_count": null,
   "metadata": {},
   "outputs": [],
   "source": [
    "%%writefile ../../grafana-manager.yml\n",
    "\n",
    "grafana:\n",
    "    build: \n",
    "      context: ${PWD}/docker_files/\n",
    "      dockerfile: grafana.Dockerfile\n",
    "    container_name: grafana\n",
    "    hostname: grafana\n",
    "    volumes:\n",
    "      - ${PWD}/fs/volumes/grafana/etc/grafana/provisioning/datasources:/etc/grafana/provisioning/datasources\n",
    "    ports:\n",
    "      - \"127.0.0.1:3000:3000\"\n",
    "    depends_on:\n",
    "      - clickhouse"
   ]
  }
 ],
 "metadata": {
  "kernelspec": {
   "display_name": ".venv",
   "language": "python",
   "name": "python3"
  },
  "language_info": {
   "name": "python",
   "version": "3.10.12"
  }
 },
 "nbformat": 4,
 "nbformat_minor": 2
}
