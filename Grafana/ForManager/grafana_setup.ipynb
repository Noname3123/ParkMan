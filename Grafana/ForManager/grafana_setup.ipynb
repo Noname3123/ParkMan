{
 "cells": [
  {
   "cell_type": "markdown",
   "metadata": {},
   "source": [
    "# NOTE"
   ]
  },
  {
   "cell_type": "markdown",
   "metadata": {},
   "source": [
    "In order to fix grafana start problems. You must run following terminal commands to change ownership of ./Grafana/grafana_data dir:\n",
    "sudo chmod -R 755 ./grafana_data/\n",
    "sudo chown -R 472:root ./grafana_data/\n"
   ]
  }
 ],
 "metadata": {
  "kernelspec": {
   "display_name": ".venv",
   "language": "python",
   "name": "python3"
  },
  "language_info": {
   "name": "python",
   "version": "3.10.12"
  }
 },
 "nbformat": 4,
 "nbformat_minor": 2
}
