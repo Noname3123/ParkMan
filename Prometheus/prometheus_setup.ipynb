{
 "cells": [
  {
   "cell_type": "markdown",
   "metadata": {},
   "source": [
    "# Setup notebook for prometheus service"
   ]
  },
  {
   "cell_type": "markdown",
   "metadata": {},
   "source": [
    "Create prometheus config for prometheus service"
   ]
  },
  {
   "cell_type": "code",
   "execution_count": 1,
   "metadata": {},
   "outputs": [
    {
     "name": "stdout",
     "output_type": "stream",
     "text": [
      "Overwriting ./prometheus.yml\n"
     ]
    }
   ],
   "source": [
    "%%writefile ./prometheus.yml\n",
    "global:\n",
    "  scrape_interval: 15s\n",
    "\n",
    "scrape_configs:\n",
    "  - job_name: 'traefik'\n",
    "    static_configs:\n",
    "      - targets: ['traefik:8080']\n",
    "\n",
    "  - job_name: 'nginx'\n",
    "    static_configs:\n",
    "      - targets: ['nginx:80']\n",
    "\n",
    "  - job_name: 'mongo_manager_db_service'\n",
    "    static_configs:\n",
    "      - targets: ['mongo_manager_db_service:27017']\n",
    "\n",
    "  - job_name: 'redis'\n",
    "    static_configs:\n",
    "      - targets: ['redis:6379']\n"
   ]
  },
  {
   "cell_type": "markdown",
   "metadata": {},
   "source": [
    "Create prometheus.yml"
   ]
  },
  {
   "cell_type": "code",
   "execution_count": 9,
   "metadata": {},
   "outputs": [
    {
     "name": "stdout",
     "output_type": "stream",
     "text": [
      "Overwriting ../prometheus_service.yml\n"
     ]
    }
   ],
   "source": [
    "%%writefile ../prometheus_service.yml\n",
    "\n",
    "version: '3'\n",
    "\n",
    "\n",
    "services:\n",
    "    prometheus:\n",
    "        image: prom/prometheus:latest\n",
    "        container_name: prometheus\n",
    "        \n",
    "        volumes:\n",
    "            - ./Prometheus/prometheus.yml:/etc/prometheus/prometheus.yml\n",
    "            - prometheus-data:/prometheus\n",
    "\n",
    "        ports:\n",
    "            - \"10000:9090\"\n",
    "        \n",
    "        networks:\n",
    "            - app-network\n",
    "\n",
    "        depends_on:\n",
    "            nginx:\n",
    "                condition: service_healthy\n",
    "\n",
    "        command:\n",
    "            - '--config.file=/etc/prometheus/prometheus.yml'\n",
    "\n",
    "volumes:\n",
    "  prometheus-data: {}"
   ]
  }
 ],
 "metadata": {
  "kernelspec": {
   "display_name": ".venv",
   "language": "python",
   "name": "python3"
  },
  "language_info": {
   "codemirror_mode": {
    "name": "ipython",
    "version": 3
   },
   "file_extension": ".py",
   "mimetype": "text/x-python",
   "name": "python",
   "nbconvert_exporter": "python",
   "pygments_lexer": "ipython3",
   "version": "3.10.12"
  }
 },
 "nbformat": 4,
 "nbformat_minor": 2
}
