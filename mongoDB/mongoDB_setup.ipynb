{
 "cells": [
  {
   "cell_type": "markdown",
   "metadata": {},
   "source": [
    "# MONGODB Setup Notebook"
   ]
  },
  {
   "cell_type": "markdown",
   "metadata": {},
   "source": [
    "## Dockerfile generation\n",
    "\n",
    "Docker file contains necessary commands needed to create any MongoDB instance"
   ]
  },
  {
   "cell_type": "code",
   "execution_count": 18,
   "metadata": {},
   "outputs": [
    {
     "name": "stdout",
     "output_type": "stream",
     "text": [
      "Overwriting Dockerfile\n"
     ]
    }
   ],
   "source": [
    "%%writefile Dockerfile\n",
    "\n",
    "FROM mongo:6.0\n",
    "\n",
    "# Copy the initialization script into the image\n",
    "COPY mongo-init.sh /docker-entrypoint-initdb.d/mongo-init.sh\n",
    "\n",
    "# Ensure the script has execute permissions\n",
    "RUN chmod +x /docker-entrypoint-initdb.d/mongo-init.sh"
   ]
  },
  {
   "cell_type": "markdown",
   "metadata": {},
   "source": [
    "## Creation of mongo-DB init script\n",
    "Script used for initializing database"
   ]
  },
  {
   "cell_type": "code",
   "execution_count": 4,
   "metadata": {},
   "outputs": [
    {
     "name": "stdout",
     "output_type": "stream",
     "text": [
      "Overwriting mongo-init.sh\n"
     ]
    }
   ],
   "source": [
    "%%writefile mongo-init.sh\n",
    "\n",
    "#!/bin/bash\n",
    "set -e\n",
    "\n",
    "# Ensure necessary environment variables are set\n",
    ": \"${MONGO_DATABASE_NAME:?Environment variable MONGO_DATABASE_NAME not set}\"\n",
    ": \"${MONGO_DATABASE_USER:?Environment variable MONGO_DATABASE_USER not set}\"\n",
    ": \"${MONGO_DATABASE_PASS:?Environment variable MONGO_DATABASE_PASS not set}\"\n",
    ": \"${MONGO_INITDB_ROOT_USERNAME:?Environment variable MONGO_INITDB_ROOT_USERNAME not set}\"\n",
    ": \"${MONGO_INITDB_ROOT_PASSWORD:?Environment variable MONGO_INITDB_ROOT_PASSWORD not set}\"\n",
    ": \"${MONGO_COLLECTION_NAMES:?Environment variable MONGO_COLLECTION_NAMES not set}\"\n",
    "\n",
    "echo \"Starting MongoDB initialization script...\"\n",
    "\n",
    "# Switch to admin database to create the app user\n",
    "mongosh admin -u \"$MONGO_INITDB_ROOT_USERNAME\" -p \"$MONGO_INITDB_ROOT_PASSWORD\" --authenticationDatabase \"admin\" <<EOF\n",
    "var user = db.getSiblingDB('$MONGO_DATABASE_NAME').getUser('$MONGO_DATABASE_USER');\n",
    "if (!user) {\n",
    "    // Create application database and user\n",
    "    db.getSiblingDB('$MONGO_DATABASE_NAME').createUser({\n",
    "      user: \"$MONGO_DATABASE_USER\",\n",
    "      pwd: \"$MONGO_DATABASE_PASS\",\n",
    "      roles: [\n",
    "        { role: \"readWrite\", db: \"$MONGO_DATABASE_NAME\" }\n",
    "      ]\n",
    "    });\n",
    "    print(\"Application user '$MONGO_DATABASE_USER' created successfully on '$MONGO_DATABASE_NAME'.\");\n",
    "} else {\n",
    "    print(\"User '$MONGO_DATABASE_USER' already exists on '$MONGO_DATABASE_NAME'.\");\n",
    "}\n",
    "EOF\n",
    "\n",
    "# Initialize collections if they don't exist\n",
    "mongosh \"$MONGO_DATABASE_NAME\" -u \"$MONGO_DATABASE_USER\" -p \"$MONGO_DATABASE_PASS\" --authenticationDatabase \"$MONGO_DATABASE_NAME\" <<EOF\n",
    "var collections = $MONGO_COLLECTION_NAMES;\n",
    "collections.forEach(function(collection) {\n",
    "  if (db.getCollectionNames().indexOf(collection) === -1) {\n",
    "  db.createCollection(collection);\n",
    "  print(\"Collection '\" + collection + \"' created successfully in database '$MONGO_DATABASE_NAME'.\");\n",
    "  } else {\n",
    "  print(\"Collection '\" + collection + \"' already exists in database '$MONGO_DATABASE_NAME'.\");\n",
    "  }\n",
    "});\n",
    "EOF\n",
    "\n",
    "echo \"MongoDB initialization complete.\"\n",
    "\n"
   ]
  },
  {
   "cell_type": "markdown",
   "metadata": {},
   "source": [
    "## Local environment variables for MongoDB config\n",
    "Defined in notebook for easier later generation"
   ]
  },
  {
   "cell_type": "code",
   "execution_count": 2,
   "metadata": {},
   "outputs": [],
   "source": [
    "#Parking manager config data\n",
    "mongo_service_name_managerDB= 'mongo_manager_db_service' \n",
    "mongo_db_name_managerDB = 'ParkMan_manager_db'\n",
    "mongo_user_managerDB = 'user_Park_Manager'\n",
    "mongo_pass_managerDB = 'mongo_pass'  \n",
    "mongo_port_managerDB = '27016'\n",
    "mongo_express_port_managerDB = '8081'\n",
    "mongo_collections_managerDB = '[\"parking_lots\", \"parking_spaces\", \"parking_managers\"]'\n",
    "\n",
    "\n",
    "###Shared vals\n",
    "mongo_admin_user = 'admin'\n",
    "mongo_admin_pass = 'admin_pass'\n",
    "\n",
    "\n",
    "\n",
    "mongo_express_user = 'mongo_express_user'\n",
    "mongo_express_pass = 'mongo_express_pass'\n",
    "\n",
    "\n",
    "###\n",
    "\n",
    "#UserDB config data\n",
    "mongo_service_name_userDB= 'mongo_user_db_service' \n",
    "mongo_db_name_userDB = 'ParkMan_user_db'\n",
    "mongo_user_userDB = 'user_Person'\n",
    "mongo_pass_userDB = 'mongo_pass'  \n",
    "mongo_port_userDB = '27017'\n",
    "mongo_express_port_userDB = '8082'\n",
    "mongo_collections_userDB = '[\"users\"]'"
   ]
  },
  {
   "cell_type": "markdown",
   "metadata": {},
   "source": [
    "## Generate environment files for Docker definition"
   ]
  },
  {
   "cell_type": "code",
   "execution_count": 22,
   "metadata": {},
   "outputs": [],
   "source": [
    "#append to docker-compose shared env neccessarry env variables so that the service could config properly\n",
    "with open('../.env', 'a') as f:\n",
    "    f.write(f\"\\n\\nMONGO_PORT_MANAGERDB={mongo_port_managerDB}\")\n",
    "    f.write(f\"\\n\\nMONGO_PORT_USERDB={mongo_port_userDB}\")\n",
    "    f.write(f\"\\nMONGO_EXPRESS_PORT_MANAGERDB={mongo_express_port_managerDB}\")\n",
    "    f.write(f\"\\nMONGO_EXPRESS_PORT_USERDB={mongo_express_port_userDB}\")"
   ]
  },
  {
   "cell_type": "markdown",
   "metadata": {},
   "source": [
    "Create .env file for mongoDB configuration (for managerDB and userDB)"
   ]
  },
  {
   "cell_type": "code",
   "execution_count": 6,
   "metadata": {},
   "outputs": [],
   "source": [
    "#write env file for mongoDB ManagerDB config \n",
    "mongo_env = f'''MONGO_DATABASE_USER={mongo_user_managerDB}\n",
    "MONGO_DATABASE_PASS={mongo_pass_managerDB}\n",
    "MONGO_INITDB_ROOT_USERNAME={mongo_admin_user}\n",
    "MONGO_INITDB_ROOT_PASSWORD={mongo_admin_pass}\n",
    "MONGO_COLLECTION_NAMES={mongo_collections_managerDB}\n",
    "'''\n",
    "with open('.ManagerDB.env', 'w') as f:\n",
    "    f.write(mongo_env)\n",
    "\n",
    "\n",
    "#write env file for mongoDB UserDB config\n",
    "mongo_env = f'''MONGO_DATABASE_USER={mongo_user_userDB}\n",
    "MONGO_DATABASE_PASS={mongo_pass_userDB}\n",
    "MONGO_INITDB_ROOT_USERNAME={mongo_admin_user}\n",
    "MONGO_INITDB_ROOT_PASSWORD={mongo_admin_pass}\n",
    "MONGO_COLLECTION_NAMES={mongo_collections_userDB}\n",
    "'''\n",
    "with open('.UserDB.env', 'w') as f:\n",
    "    f.write(mongo_env)"
   ]
  },
  {
   "cell_type": "markdown",
   "metadata": {},
   "source": [
    "Create .env file for Mongo Express config (for both instances)"
   ]
  },
  {
   "cell_type": "code",
   "execution_count": 7,
   "metadata": {},
   "outputs": [],
   "source": [
    "#Create mongo express env for ManagerDB \n",
    "mongo_express_env = f'''ME_CONFIG_MONGODB_ADMINUSERNAME={mongo_admin_user}\n",
    "ME_CONFIG_MONGODB_ADMINPASSWORD={mongo_admin_pass}\n",
    "ME_CONFIG_MONGODB_URL=mongodb://{mongo_admin_user}:{mongo_admin_pass}@{mongo_service_name_managerDB}:27017/{mongo_db_name_managerDB}?authSource=admin\n",
    "ME_CONFIG_BASICAUTH_USERNAME={mongo_express_user}\n",
    "ME_CONFIG_BASICAUTH_PASSWORD={mongo_express_pass}\n",
    "'''\n",
    "\n",
    "with open('.env.express.ManagerDB', 'w') as f:\n",
    "    f.write(mongo_express_env)\n",
    "\n",
    "#Create mongo express env for UserDB\n",
    "mongo_express_env = f'''ME_CONFIG_MONGODB_ADMINUSERNAME={mongo_admin_user}\n",
    "ME_CONFIG_MONGODB_ADMINPASSWORD={mongo_admin_pass}\n",
    "ME_CONFIG_MONGODB_URL=mongodb://{mongo_admin_user}:{mongo_admin_pass}@{mongo_service_name_userDB}:27017/{mongo_db_name_userDB}?authSource=admin\n",
    "ME_CONFIG_BASICAUTH_USERNAME={mongo_express_user}\n",
    "ME_CONFIG_BASICAUTH_PASSWORD={mongo_express_pass}\n",
    "'''\n",
    "\n",
    "with open('.env.express.UserDB', 'w') as f:\n",
    "    f.write(mongo_express_env)\n",
    "\n",
    "\n",
    " \n",
    "\n",
    "\n"
   ]
  },
  {
   "cell_type": "markdown",
   "metadata": {},
   "source": [
    "Add .env file for Flask app config"
   ]
  },
  {
   "cell_type": "code",
   "execution_count": 8,
   "metadata": {},
   "outputs": [],
   "source": [
    "#Append to the ManagerApp env file the neccessary env variables\n",
    "with open('../ManagerApp/.env', 'a') as f:\n",
    "    f.write(f'\\nMONGO_MANAGER_DATABASE_URI=mongodb://{mongo_user_managerDB}:{mongo_pass_managerDB}@{mongo_service_name_managerDB}:{mongo_port_managerDB}/{mongo_db_name_managerDB}')\n",
    "\n",
    "#Append to the MobileApp env file the neccessary env variables\n",
    "with open('../MobileApp/.env', 'a') as f:\n",
    "    f.write(f'\\nMONGO_USER_DATABASE_URI=mongodb://{mongo_user_userDB}:{mongo_pass_userDB}@{mongo_service_name_userDB}:{mongo_port_userDB}/{mongo_db_name_userDB}')"
   ]
  },
  {
   "cell_type": "markdown",
   "metadata": {},
   "source": [
    "Add shared .env file needed for both apps and mongoDB config"
   ]
  },
  {
   "cell_type": "code",
   "execution_count": 26,
   "metadata": {},
   "outputs": [],
   "source": [
    "#Create shared env file for ManagerApp and mongoDB config\n",
    "shared_env_app = f'''\n",
    "MONGO_DATABASE_NAME={mongo_db_name_managerDB}\n",
    "'''  \n",
    "\n",
    "with open('.env.shared.ManagerApp', 'w') as f:\n",
    "    f.write(shared_env_app)\n",
    "\n",
    "#Create shared env file for MobileApp and mongoDB config\n",
    "shared_env_app = f'''\n",
    "MONGO_DATABASE_NAME={mongo_db_name_userDB}\n",
    "'''\n",
    "with open('.env.shared.MobileApp', 'w') as f:\n",
    "    f.write(shared_env_app)"
   ]
  },
  {
   "cell_type": "markdown",
   "metadata": {},
   "source": [
    "Add shared .env file needed for both MongoDB and Mongo Express"
   ]
  },
  {
   "cell_type": "code",
   "execution_count": 27,
   "metadata": {},
   "outputs": [],
   "source": [
    "#Create shared env file for Express and mongoDB config for managerDB\n",
    "shared_env_express = f'''\n",
    "MONGO_INITDB_DATABASE={mongo_db_name_managerDB}\n",
    "'''\n",
    "\n",
    "with open('.env.shared.express.ManagerDB', 'w') as f:\n",
    "    f.write(shared_env_express)\n",
    "\n",
    "#Create shared env file for Express and mongoDB config for userDB\n",
    "shared_env_express = f'''\n",
    "MONGO_INITDB_DATABASE={mongo_db_name_userDB}\n",
    "'''\n",
    "\n",
    "with open('.env.shared.express.UserDB', 'w') as f:\n",
    "    f.write(shared_env_express)"
   ]
  },
  {
   "cell_type": "markdown",
   "metadata": {},
   "source": [
    "# Docker compose generation\n",
    "Cells bellow apply appropriate changes to docker-compose.yml"
   ]
  },
  {
   "cell_type": "code",
   "execution_count": 5,
   "metadata": {},
   "outputs": [
    {
     "name": "stdout",
     "output_type": "stream",
     "text": [
      "\n",
      "docker-compose.yml has been updated successfully.\n"
     ]
    }
   ],
   "source": [
    "\n",
    "from ruamel.yaml import YAML\n",
    "\n",
    "# Initialize YAML parser\n",
    "yaml = YAML()\n",
    "yaml.preserve_quotes = True  # Preserves quotes in the YAML file\n",
    "yaml.indent(mapping = 2, sequence = 2, offset = 2)\n",
    "\n",
    "#Setup file edit path \n",
    "docker_compose_path = '../docker-compose.yml'  \n",
    "\n",
    "# Read the docker-compose.yml file\n",
    "with open(docker_compose_path, 'r') as file:\n",
    "    docker_compose = yaml.load(file)\n",
    "\n",
    "\n",
    "#Define mongoDB service for ManagerDB\n",
    "mongo_service_managerDB = {\n",
    "    'build' : './mongoDB',\n",
    "    'env_file' : [\n",
    "        './mongoDB/.env.shared.express.ManagerDB',\n",
    "        './mongoDB/.env.shared.ManagerApp',\n",
    "        './mongoDB/.ManagerDB.env'\n",
    "    ],\n",
    "    'ports' : [\n",
    "        \"${MONGO_PORT_MANAGERDB}:27017\"\n",
    "    ],\n",
    "    'volumes' : [\n",
    "        'mongo_data_managerDB:/data/db'\n",
    "    ],\n",
    "    'command' : [\"mongod\", \"--bind_ip_all\"],\n",
    "    'networks' : [\n",
    "        'app-network'\n",
    "    ],\n",
    "    'healthcheck' : {\n",
    "      'test' : [\"CMD\", \"mongosh\", \"--eval\",\"db.getMongo().getDB(process.env.MONGO_DATABASE_NAME) ? quit(0) : quit(1)\"],\n",
    "      'interval' : '10s',\n",
    "      'timeout' : '5s',\n",
    "      'retries' : 5\n",
    "    }\n",
    "}\n",
    "\n",
    "#Define mongoDB service for UserDB\n",
    "mongo_service_userDB = {\n",
    "    'build' : './mongoDB',\n",
    "    'env_file' : [\n",
    "        './mongoDB/.env.shared.express.UserDB',\n",
    "        './mongoDB/.env.shared.MobileApp',\n",
    "        './mongoDB/.UserDB.env'\n",
    "    ],\n",
    "    'ports' : [\n",
    "        \"${MONGO_PORT_USERDB}:27017\"\n",
    "    ],\n",
    "    'volumes' : [\n",
    "        'mongo_data_userDB:/data/db' #TODO: check if this causes collisions/problems\n",
    "    ],\n",
    "    'command' : [\"mongod\", \"--bind_ip_all\"],\n",
    "    'networks' : [\n",
    "        'app-network'\n",
    "    ],\n",
    "    'healthcheck' : {\n",
    "      'test' : [\"CMD\", \"mongosh\", \"--eval\",\"db.getMongo().getDB(process.env.MONGO_DATABASE_NAME) ? quit(0) : quit(1)\"],\n",
    "      'interval' : '10s',\n",
    "      'timeout' : '5s',\n",
    "      'retries' : 5\n",
    "    }\n",
    "}\n",
    "\n",
    "\n",
    "#TODO: add MobileAPP requirements here\n",
    "docker_compose['services']['manager_app']['depends_on'].update({ \n",
    "\n",
    "    mongo_service_name_managerDB: { #TODO: yaml parser has problems with parsing this line: it adds \"-\" to first item but not to second - verify why is that\n",
    "        'condition': 'service_healthy'\n",
    "        },\n",
    "    mongo_service_name_userDB: {\n",
    "        'condition': 'service_healthy'\n",
    "        },\n",
    "    \n",
    "    }),\n",
    "docker_compose['services']['manager_app']['env_file'] = [\n",
    "    './ManagerApp/.env', \n",
    "    './mongoDB/.env.shared.ManagerApp'\n",
    "]\n",
    "\n",
    "\n",
    "\n",
    "# Define the Mongo-Express service configuration for ManagerDB and UserDB\n",
    "mongo_express_service_managerDB = {\n",
    "    'image' : 'mongo-express',\n",
    "    'container_name' : 'mexpress', #TODO: maybe change container name in case of collision with mongo express for userDB\n",
    "    'env_file' : [#TODO: modify so that there is only one .env.shared.express and .env.express\n",
    "        './mongoDB/.env.express.ManagerDB',\n",
    "        './mongoDB/.env.shared.express.ManagerDB'\n",
    "    ],\n",
    "    'restart' : 'unless-stopped',\n",
    "    'ports': [\n",
    "        \"${MONGO_EXPRESS_PORT_MANAGERDB}:8081\"\n",
    "    ],\n",
    "    'depends_on' : {\n",
    "        mongo_service_name_managerDB: {\n",
    "            'condition': 'service_healthy'\n",
    "            },\n",
    "        mongo_service_name_userDB: { \n",
    "            'condition': 'service_healthy'\n",
    "            }        \n",
    "    },\n",
    "    'networks': [\n",
    "        'app-network'\n",
    "    ]\n",
    "}\n",
    "\n",
    "mongo_express_service_userDB = {\n",
    "    'image' : 'mongo-express',\n",
    "    'container_name' : 'mexpress_userDB', #TODO: maybe change container name in case of collision with mongo express for userDB\n",
    "    'env_file' : [\n",
    "        './mongoDB/.env.express.UserDB',\n",
    "        './mongoDB/.env.shared.express.UserDB'\n",
    "    ],\n",
    "    'restart' : 'unless-stopped',\n",
    "    'ports': [\n",
    "        \"${MONGO_EXPRESS_PORT_USERDB}:8081\"\n",
    "    ],\n",
    "    'depends_on' : {\n",
    "        mongo_service_name_managerDB: {\n",
    "            'condition': 'service_healthy'\n",
    "            },\n",
    "        mongo_service_name_userDB: { \n",
    "            'condition': 'service_healthy'\n",
    "            }        \n",
    "    },\n",
    "    'networks': [\n",
    "        'app-network'\n",
    "    ]\n",
    "}\n",
    "\n",
    "\n",
    "\n",
    "\n",
    "# Add the MongoDB service to the services section\n",
    "docker_compose['services'][mongo_service_name_managerDB] = mongo_service_managerDB\n",
    "docker_compose['services'][mongo_service_name_userDB] = mongo_service_userDB\n",
    "\n",
    "# Add the Mongo-Express service to the services section\n",
    "docker_compose['services']['mongo-express'] = mongo_express_service_managerDB\n",
    "docker_compose['services']['mongo-express_userDB'] = mongo_express_service_userDB\n",
    "\n",
    "docker_compose['volumes']['mongo_data_managerDB'] = {}\n",
    "docker_compose['volumes']['mongo_data_userDB'] = {}\n",
    "\n",
    "# Write the updated configuration back to docker-compose.yml\n",
    "with open(docker_compose_path, 'w') as file:\n",
    "    yaml.dump(docker_compose, file)\n",
    "\n",
    "print(\"\\ndocker-compose.yml has been updated successfully.\")\n"
   ]
  }
 ],
 "metadata": {
  "kernelspec": {
   "display_name": ".venv",
   "language": "python",
   "name": "python3"
  },
  "language_info": {
   "codemirror_mode": {
    "name": "ipython",
    "version": 3
   },
   "file_extension": ".py",
   "mimetype": "text/x-python",
   "name": "python",
   "nbconvert_exporter": "python",
   "pygments_lexer": "ipython3",
   "version": "3.10.12"
  }
 },
 "nbformat": 4,
 "nbformat_minor": 2
}
