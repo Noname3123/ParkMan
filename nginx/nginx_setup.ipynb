{
 "cells": [
  {
   "cell_type": "markdown",
   "metadata": {},
   "source": [
    "# Docker setup for nginx servers"
   ]
  },
  {
   "cell_type": "markdown",
   "metadata": {},
   "source": [
    "## NGINX config file\n",
    "Used for setting up server"
   ]
  },
  {
   "cell_type": "markdown",
   "metadata": {},
   "source": [
    "Write nginx.conf config to setup server and link appropriate Docker containers"
   ]
  },
  {
   "cell_type": "code",
   "execution_count": 5,
   "metadata": {},
   "outputs": [
    {
     "name": "stdout",
     "output_type": "stream",
     "text": [
      "Overwriting nginx.conf\n"
     ]
    }
   ],
   "source": [
    "%%writefile nginx.conf\n",
    "\n",
    "# Define the server block for Park manager aspect of app\n",
    "server {\n",
    "    # Listen on port 80 (HTTP)\n",
    "    listen 80;\n",
    "    \n",
    "    # Set the server name (can be any name or IP) - NOTE: this host name should be in host field in request\n",
    "    server_name parkman.localhost;\n",
    "    \n",
    "    # Define the location block for handling requests\n",
    "    location / {\n",
    "        # Proxy all requests to the Flask app running in the 'manager_app' service on port 80\n",
    "        proxy_pass http://manager_app:80;\n",
    "        \n",
    "        # Preserve the original Host header from the client\n",
    "        proxy_set_header Host $host;\n",
    "        \n",
    "        # Pass the real client's IP address to the Flask app\n",
    "        proxy_set_header X-Real-IP $remote_addr;\n",
    "\n",
    "        # Pass additional headers for proper request handling\n",
    "        proxy_set_header X-Forwarded-For $proxy_add_x_forwarded_for;\n",
    "        proxy_set_header X-Forwarded-Proto $scheme;\n",
    "    }\n",
    "\n",
    "\n",
    "\n",
    "    location /user { #if locaton /user\n",
    "         # Proxy all requests to the Flask app running in the 'mobile_app' service on port 80\n",
    "         proxy_pass http://mobile_app:80;\n",
    "        \n",
    "#         # Preserve the original Host header from the client\n",
    "         proxy_set_header Host $host;\n",
    "        \n",
    "#         # Pass the real client's IP address to the Flask app\n",
    "         proxy_set_header X-Real-IP $remote_addr;\n",
    "\n",
    "#         # Pass additional headers for proper request handling\n",
    "         proxy_set_header X-Forwarded-For $proxy_add_x_forwarded_for;\n",
    "         proxy_set_header X-Forwarded-Proto $scheme;\n",
    "    }\n",
    "\n",
    "}\n",
    "\n",
    "# Define the server block for the MobileAPP aspect of app, TODO: implement after MobileAPP is implemented\n",
    "# server {\n",
    "#     # Listen on port 80 (HTTP)\n",
    "#     listen 80;\n",
    "    \n",
    "#     # Set the server name (can be any name or IP)\n",
    "#     server_name MobileAPP;\n",
    "    \n",
    "#     # Define the location block for handling requests\n",
    "#     location / {\n",
    "#         # Proxy all requests to the Flask app running in the 'mobile_app' service on port 80\n",
    "#         proxy_pass http://mobile_app:80;\n",
    "        \n",
    "#         # Preserve the original Host header from the client\n",
    "#         proxy_set_header Host $host;\n",
    "        \n",
    "#         # Pass the real client's IP address to the Flask app\n",
    "#         proxy_set_header X-Real-IP $remote_addr;\n",
    "\n",
    "#         # Pass additional headers for proper request handling\n",
    "#         proxy_set_header X-Forwarded-For $proxy_add_x_forwarded_for;\n",
    "#         proxy_set_header X-Forwarded-Proto $scheme;\n",
    "#     }\n",
    "# }\n"
   ]
  },
  {
   "cell_type": "markdown",
   "metadata": {},
   "source": [
    "Create Docker file for nginx container setup"
   ]
  },
  {
   "cell_type": "code",
   "execution_count": 5,
   "metadata": {},
   "outputs": [
    {
     "name": "stdout",
     "output_type": "stream",
     "text": [
      "Overwriting nginx.dockerfile\n"
     ]
    }
   ],
   "source": [
    "%%writefile nginx.dockerfile\n",
    "\n",
    "# Use the official Nginx image as the base\n",
    "FROM nginx:latest\n",
    "\n",
    "# Remove the default Nginx configuration file from container\n",
    "RUN rm /etc/nginx/conf.d/default.conf\n",
    "\n",
    "# Copy our custom Nginx configuration into the container\n",
    "COPY nginx.conf /etc/nginx/conf.d\n",
    "\n",
    "# Expose port 80 to allow external access to the container's port 80\n",
    "EXPOSE 80\n",
    "\n",
    "#run command on container create which starts nginx. nginx works as a foreground process since docker considers daemon processes as \"not running\", hence it shutsdown the container\n",
    "CMD [\"nginx\", \"-g\", \"daemon off;\"]"
   ]
  },
  {
   "cell_type": "markdown",
   "metadata": {},
   "source": [
    "## Embedding Nginx service into docker compose"
   ]
  },
  {
   "cell_type": "code",
   "execution_count": 6,
   "metadata": {},
   "outputs": [
    {
     "name": "stdout",
     "output_type": "stream",
     "text": [
      "\n",
      "docker-compose.yml has been updated successfully.\n"
     ]
    }
   ],
   "source": [
    "from ruamel.yaml import YAML\n",
    "\n",
    "# Create a YAML object\n",
    "yaml = YAML()\n",
    "yaml.preserve_quotes = True  # Preserves quotes in the YAML file\n",
    "yaml.indent(mapping = 2, sequence = 2, offset = 2)\n",
    "\n",
    "#Setup file edit path \n",
    "docker_compose_path = '../docker-compose.yml'  \n",
    "\n",
    "# Read the docker-compose.yml file\n",
    "with open(docker_compose_path, 'r') as file:\n",
    "    docker_compose = yaml.load(file)\n",
    "\n",
    "# Define Nginx service configuration\n",
    "nginx_service = {\n",
    "    'build': {\n",
    "        'context': './nginx',\n",
    "        'dockerfile': 'nginx.dockerfile'\n",
    "    },\n",
    "    'depends_on': ['manager_app'], #TODO: add service 'mobile_app' after implemented\n",
    "    'networks': ['app-network'],\n",
    "    'ports': ['80:80'],\n",
    "    'labels': [\n",
    "        'traefik.enable=true',\n",
    "        'traefik.http.routers.nginx.rule= Host(`parkman.localhost`)',\n",
    "        'traefik.http.routers.nginx.entrypoints=web',\n",
    "        'traefik.http.services.nginx.loadbalancer.server.port=80'\n",
    "    ]\n",
    "    \n",
    "}\n",
    "\n",
    "\n",
    "\n",
    "docker_compose['services']['nginx']=nginx_service\n",
    "\n",
    "\n",
    "# Write the updated configuration back to docker-compose.yml\n",
    "with open(docker_compose_path, 'w') as file:\n",
    "    yaml.dump(docker_compose, file)\n",
    "\n",
    "print(\"\\ndocker-compose.yml has been updated successfully.\")\n"
   ]
  }
 ],
 "metadata": {
  "kernelspec": {
   "display_name": ".venv",
   "language": "python",
   "name": "python3"
  },
  "language_info": {
   "codemirror_mode": {
    "name": "ipython",
    "version": 3
   },
   "file_extension": ".py",
   "mimetype": "text/x-python",
   "name": "python",
   "nbconvert_exporter": "python",
   "pygments_lexer": "ipython3",
   "version": "3.10.12"
  }
 },
 "nbformat": 4,
 "nbformat_minor": 2
}
